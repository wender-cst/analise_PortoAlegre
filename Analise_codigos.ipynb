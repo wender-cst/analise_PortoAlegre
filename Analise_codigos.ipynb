{
 "cells": [
  {
   "cell_type": "markdown",
   "id": "b2407fd1-041a-4521-a24e-db6742f1b8ea",
   "metadata": {
    "editable": true,
    "slideshow": {
     "slide_type": ""
    },
    "tags": []
   },
   "source": [
    " # Análise de Acidentes de Trânsito em Porto Alegre 🚦"
   ]
  },
  {
   "cell_type": "markdown",
   "id": "ddbacebb-ef8e-4a0c-863b-a354914a250c",
   "metadata": {},
   "source": [
    "Este projeto tem como objetivo realizar uma análise exploratória dos acidentes de Trânsito\n",
    "em Porto Alegre, identificando padrões temporais e espaciais que possam apoiar estratégias de prevenção."
   ]
  },
  {
   "cell_type": "markdown",
   "id": "d44655c4-cfb6-423e-8a6c-e95b61de0a54",
   "metadata": {},
   "source": [
    "#### Fontes dos Dados \n",
    "https://dadosabertos.poa.br/dataset/acidentes-de-transito-acidentes\n"
   ]
  },
  {
   "cell_type": "markdown",
   "id": "569c1d3f-674d-4671-9414-f8bdde793eac",
   "metadata": {},
   "source": [
    "#### Objetivos principais :\n",
    "- Explorar os dados de acidentes em Porto Alegre\n",
    "- Identificar os período e locais mais críticos\n",
    "- Gerar insight que possam apoiar políticas públicas e conscientização."
   ]
  },
  {
   "cell_type": "markdown",
   "id": "b1e6e9fd-04e4-4051-9ff9-afee12f4255d",
   "metadata": {},
   "source": [
    "## 1.Importação e Visualização inicial  📥 "
   ]
  },
  {
   "cell_type": "code",
   "execution_count": null,
   "id": "8421f53b-f16d-433b-bbc7-acb16f624a99",
   "metadata": {},
   "outputs": [],
   "source": [
    "import pandas as pd\n",
    "import numpy as np\n",
    "import matplotlib.pyplot as plt\n",
    "import seaborn as sns"
   ]
  },
  {
   "cell_type": "code",
   "execution_count": null,
   "id": "2d9deb0b-60a8-4a4b-9f71-de43b319493f",
   "metadata": {},
   "outputs": [],
   "source": [
    "# Carregando o dataframe que utilizaremos na análise.\n",
    "df = pd.read_csv('E:\\Projeto_anaconda\\dadosACD\\cat_acidentes.csv', sep = ';')"
   ]
  },
  {
   "cell_type": "code",
   "execution_count": null,
   "id": "5600e606-90f7-4f03-bf75-380f46bd1c08",
   "metadata": {
    "scrolled": true
   },
   "outputs": [],
   "source": [
    "df"
   ]
  },
  {
   "cell_type": "code",
   "execution_count": null,
   "id": "cd9c647e-d653-4f1c-99af-5e0240dbb9f2",
   "metadata": {},
   "outputs": [],
   "source": [
    "df.info()"
   ]
  },
  {
   "cell_type": "markdown",
   "id": "c40952bc-4885-4897-8695-02c72a0d31f6",
   "metadata": {},
   "source": [
    "# 2.Limpeza e Preparo de Dados\n",
    "- Limpeza de valores NaN\n",
    "- Padronização das colunas\n",
    "  "
   ]
  },
  {
   "cell_type": "code",
   "execution_count": null,
   "id": "c81f1b85-e631-4a3a-a79d-035b7453a78d",
   "metadata": {},
   "outputs": [],
   "source": [
    "df = df.rename(columns={'noite_dia': 'periodo'})\n",
    "# Mudei o nome da coluna \"noite_dia\" para \"periodo\", para que seja mais fácil de se manipular"
   ]
  },
  {
   "cell_type": "code",
   "execution_count": null,
   "id": "19549c66-a89a-4020-a8c9-45f8605c4146",
   "metadata": {
    "scrolled": true
   },
   "outputs": [],
   "source": [
    "df"
   ]
  },
  {
   "cell_type": "code",
   "execution_count": null,
   "id": "684a00ef-2957-4c63-9296-4147aec474e3",
   "metadata": {
    "scrolled": true
   },
   "outputs": [],
   "source": [
    "# Nessa parte limpamos os valores nulos que estavam nas colunas \"longitude\" e \"latitude\"\n",
    "df = df.dropna(subset=['longitude', 'latitude'], how = 'any' )\n",
    "df"
   ]
  },
  {
   "cell_type": "markdown",
   "id": "9f3e5156-6545-4494-8457-dc2d5088d166",
   "metadata": {},
   "source": [
    "Agora com os dados preparados e organizados podemos começar a nossa análise. Irei começar fazendo uma Análise Geográficas, usando mapas como de calor e de clusters para identificar concentrações de acidentes em Porto Alegre."
   ]
  },
  {
   "cell_type": "markdown",
   "id": "904f8aad-0aee-4579-b1f4-e592d8af8200",
   "metadata": {},
   "source": [
    "# 3.Análise Geográfica 🗺️"
   ]
  },
  {
   "cell_type": "code",
   "execution_count": null,
   "id": "a48a9ba5-c6af-426e-bd2a-4665747bb206",
   "metadata": {},
   "outputs": [],
   "source": [
    "\n",
    "import folium\n",
    "from folium.plugins import HeatMap, MarkerCluster\n",
    "\n",
    "mapa = folium.Map(location=[-30.1, -51.15], zoom_start=11)\n",
    "coordenadas = list(zip(df.latitude, df.longitude))\n",
    "HeatMap(coordenadas, radius=9, blur=10).add_to(mapa)\n",
    "mapa\n",
    "\n"
   ]
  },
  {
   "cell_type": "markdown",
   "id": "9931376b-296b-407b-865d-ad4c7bf575a7",
   "metadata": {},
   "source": [
    "No mapa de calor, conseguimos ver que a região central de Porto Alegre é a que concentra mais acidentes, já que aparece como a área mais intensa do mapa."
   ]
  },
  {
   "cell_type": "markdown",
   "id": "b9f4f591-936b-4293-b177-b876937d6ae9",
   "metadata": {},
   "source": [
    "Para entender melhor essa concentração, vamos usar um mapa de clusters, que ajuda a visualizar de forma mais clara e detalhada onde os acidentes realmente acontecem."
   ]
  },
  {
   "cell_type": "code",
   "execution_count": null,
   "id": "5780f75f-122d-4368-9edd-ff535ec985c3",
   "metadata": {},
   "outputs": [],
   "source": [
    "from folium.plugins import MarkerCluster\n",
    "\n",
    "mapa = folium.Map(location=[-30.1,-51.15], zoom_start=11)\n",
    "mapa_cluster= MarkerCluster(coordenadas)\n",
    "mapa.add_child(mapa_cluster)\n",
    "              \n",
    "mapa\n",
    "\n"
   ]
  },
  {
   "cell_type": "markdown",
   "id": "904af1f9-4785-4dc6-98db-27ca8d647797",
   "metadata": {},
   "source": [
    "Agora já sabemos quantos acidentes aconteceram no centro de Porto Alegre e nas regiões ao redor. Mas surge uma nova pergunta: em quais anos esses acidentes foram registrados?"
   ]
  },
  {
   "cell_type": "markdown",
   "id": "29cab3db-bda8-4789-ae43-cdbf3582bd48",
   "metadata": {},
   "source": [
    "## 4.Frequência de Acidentes\n",
    "Primeiro, vamos examinar o **DataFrame** para identificar de quais anos os dados estão sendo coletados. Essa etapa nos permite ter uma visão geral do período abrangido pelos registros de acidentes.\n"
   ]
  },
  {
   "cell_type": "code",
   "execution_count": null,
   "id": "14ae2803-50f0-4afb-9ed3-57c6f33c3f10",
   "metadata": {},
   "outputs": [],
   "source": [
    "df.data"
   ]
  },
  {
   "cell_type": "code",
   "execution_count": null,
   "id": "c547f81f-332b-4dcd-a993-00d733af0af0",
   "metadata": {},
   "outputs": [],
   "source": [
    "df['data'] = pd.to_datetime(df['data'], errors= 'coerce')\n",
    "df_ano = df['data'].dt.year.value_counts()\n",
    "df_ano"
   ]
  },
  {
   "cell_type": "markdown",
   "id": "ebd8265b-fe1a-40b9-bb3f-4be483b0c6cf",
   "metadata": {},
   "source": [
    "O resultado mostra os anos que os acidentes foram registrados, permitindo identificar os períodos com maior registro de ocorrências."
   ]
  },
  {
   "cell_type": "code",
   "execution_count": null,
   "id": "6d9bb5fe-ab16-4e82-adf4-63f3ae911db3",
   "metadata": {},
   "outputs": [],
   "source": [
    "# Gráfico dos Registros por ano de Acidentes\n",
    "df_ano = df['data'].dt.year.value_counts().sort_index()\n",
    "\n",
    "anos = df_ano.index\n",
    "valores = df_ano.values\n",
    "cores = plt.cm.Blues(np.linspace(0.4,1, len(anos)))\n",
    "\n",
    "plt.figure(figsize=(10,6))\n",
    "plt.bar(anos, valores, color=cores, edgecolor = 'black')\n",
    "plt.title('Frequência de Registro por Ano', fontsize=14)\n",
    "plt.xlabel(\"Ano\", fontsize=12)\n",
    "plt.ylabel(\"Frequência\", fontsize=12)\n",
    "\n",
    "for i, v in enumerate(valores):\n",
    "    plt.text(anos[i], v + 1, str(v), ha='center', fontsize=10)\n",
    "\n",
    "\n",
    "plt.show()"
   ]
  },
  {
   "cell_type": "markdown",
   "id": "76c95ed1-6b74-4437-a969-ed1e32be852c",
   "metadata": {},
   "source": [
    "Agora sabemos quais anos estão registrados no **DataFrame** e podemos ter uma noção da quantidade de acidentes por ano.  \n",
    "Observa-se que **2023** foi o ano com o maior número de registros de acidentes de trânsito, indicando um aumento significativo nesse período."
   ]
  },
  {
   "cell_type": "code",
   "execution_count": null,
   "id": "80d5cf40-162e-4983-bb0a-7c41780463ed",
   "metadata": {},
   "outputs": [],
   "source": [
    "tabela = df['dia_sem'].value_counts().to_frame(name='frequencia')\n",
    "tabela.reset_index(inplace=True)\n",
    "tabela.columns = ['dia_sem', 'frequencia']\n",
    "tabela\n",
    "\n",
    "# Esta tabela nos permite visualizar quais dias da semana apresentam maior, frequência de acidentes."
   ]
  },
  {
   "cell_type": "markdown",
   "id": "e841df43-34f1-4ddc-95a4-808db39e7619",
   "metadata": {},
   "source": [
    "Observa-se que **sexta-feira** é o dia da semana com maior ocorrência de acidentes nos últimos anos.  \n",
    "Essa informação pode ser útil para direcionar campanhas de conscientização e medidas de prevenção de acidentes nos dias de maior risco."
   ]
  },
  {
   "cell_type": "code",
   "execution_count": null,
   "id": "75b2aedc-552d-463d-ad6e-9ac23bbe0f13",
   "metadata": {},
   "outputs": [],
   "source": [
    "dia_sexta = 'SEXTA-FEIRA'\n",
    "df_filtrado = df[df['dia_sem'] == dia_sexta]"
   ]
  },
  {
   "cell_type": "code",
   "execution_count": null,
   "id": "43defc71-dfa6-48e5-a823-f3f73116be4f",
   "metadata": {},
   "outputs": [],
   "source": [
    "tabela_periodo = df_filtrado['periodo'].value_counts().to_frame(name = 'quantidade')\n",
    "tabela_periodo.reset_index(inplace=True)\n",
    "tabela_periodo.columns = ['periodo', 'quantidade']\n",
    "\n",
    "tabela_periodo\n",
    "# A tabela permite comparar a quantidade de acidentes durante o dia e à noite."
   ]
  },
  {
   "cell_type": "markdown",
   "id": "9557e892-cc24-42d3-bc22-c373ecc7fec8",
   "metadata": {},
   "source": [
    "Agora que identificamos que a quantidade que mais ocorrem acidentes é no **período do dia**, vamos aprofundar a análise criando um gráfico para visualizar **quais horários apresentam maior frequência de acidentes**.  \n",
    "Isso nos ajudará a entender melhor os momentos de maior risco no trânsito."
   ]
  },
  {
   "cell_type": "code",
   "execution_count": null,
   "id": "69e39bd3-e74d-4fc2-8db6-841baa082bbf",
   "metadata": {
    "scrolled": true
   },
   "outputs": [],
   "source": [
    "df['hora'].isna().sum\n",
    "# Checando se a algum valor nulo na coluna \"hora\" do data frame para não nos prejudicar."
   ]
  },
  {
   "cell_type": "markdown",
   "id": "8ad3b9d7-4d7f-4d85-a3a9-69d857effedc",
   "metadata": {},
   "source": [
    "Existe alguns valores nulos na coluna e iremos retirar-los "
   ]
  },
  {
   "cell_type": "code",
   "execution_count": null,
   "id": "d49cfb9d-bda5-452e-8a17-32e37244e4d1",
   "metadata": {},
   "outputs": [],
   "source": [
    "df_hora = df.dropna(subset=['hora'],how = 'any')\n",
    "df_hora"
   ]
  },
  {
   "cell_type": "code",
   "execution_count": null,
   "id": "f96da2f5-0411-45d1-93a8-eab67a1c2153",
   "metadata": {},
   "outputs": [],
   "source": [
    "df_hora['hora'].isna().sum()\n",
    "# Agora a coluna está totalmente limpa de valores nulos"
   ]
  },
  {
   "cell_type": "code",
   "execution_count": null,
   "id": "b86adf10-7300-42d7-89ab-17c89fbfbf85",
   "metadata": {
    "scrolled": true
   },
   "outputs": [],
   "source": [
    "df_sexta = df[df['dia_sem'] == 'SEXTA-FEIRA']\n",
    "df_sexta['hora'] = pd.to_datetime(df_sexta['hora'], errors = 'coerce').dt.time\n",
    "df_sexta['hora_do_dia'] = df_sexta['hora'].apply(lambda x: x.hour)"
   ]
  },
  {
   "cell_type": "code",
   "execution_count": null,
   "id": "33eba5d8-c79e-4a0e-aba7-fcbfd96fefb8",
   "metadata": {
    "scrolled": true
   },
   "outputs": [],
   "source": [
    "bins = list(range(0, 25, 2))\n",
    "labels = [f'{i}-{i+1}h' for i in bins[:-1]]\n",
    "df_sexta['intervalo_hora'] = pd.cut(df_sexta['hora_do_dia'], bins=bins, labels=labels, right=False)\n",
    "\n",
    "acidentes_hora = df_sexta['intervalo_hora'].value_counts().sort_index()\n",
    "acidentes_hora\n",
    "\n",
    "# Para entender melhor quantos os acidentes ocorrem durante o dia, dividimos em intervalos de 2 horas e contamos a quantidade de acidentes."
   ]
  },
  {
   "cell_type": "markdown",
   "id": "61f9f072-1c83-4f6e-a1ef-9050854e2bb1",
   "metadata": {},
   "source": [
    "Podemos ver que os intervalos com maior ocorrência de acidentes são ao início do dia **8-9h** e no período da tarde **16-17h**, indicando que os horários de pico do tráfego correspondem a momentos de maior risco de acidentes.\n",
    "Intervalos da madrugada, como 2-3h e 4-5h, apresentam menor número de acidentes."
   ]
  },
  {
   "cell_type": "code",
   "execution_count": null,
   "id": "381fb765-834e-4950-bee6-43f8de989f4f",
   "metadata": {},
   "outputs": [],
   "source": [
    "acidentes_hora = acidentes_hora.sort_index()\n",
    "\n",
    "norm = acidentes_hora.values / acidentes_hora.values.max()\n",
    "cores = plt.cm.Blues(norm)\n",
    "\n",
    "plt.figure(figsize=(12,6))\n",
    "plt.bar(acidentes_hora.index.astype(str), acidentes_hora.values, color=cores)\n",
    "plt.title(\"Acidentes de Trânsito por Intervalo de Hora (Sexta-feira)\", fontsize=16)\n",
    "plt.xlabel(\"Intervalo de Hora\", fontsize=12)\n",
    "plt.ylabel(\"Quantidade de Acidentes\", fontsize=12)\n",
    "plt.xticks(rotation=45)\n",
    "plt.grid(axis='y', linestyle='--', alpha=0.7)\n",
    "\n",
    "plt.tight_layout()\n",
    "plt.show()"
   ]
  },
  {
   "cell_type": "markdown",
   "id": "e039a5d7-0cab-4384-8884-217db06315ab",
   "metadata": {},
   "source": [
    "## 5.Relação entre  variáveis\n",
    "Nessa etapa,analisamos como os acidentes se distribuem ao longo da semana e em diferentes períodos do dia."
   ]
  },
  {
   "cell_type": "code",
   "execution_count": null,
   "id": "f2c08767-d763-4ad1-b96f-54621bfe3ee6",
   "metadata": {},
   "outputs": [],
   "source": [
    "dias_ordem = ['SEGUNDA-FEIRA','TERÇA-FEIRA','QUARTA-FEIRA','QUINTA-FEIRA','SEXTA-FEIRA','SÁBADO','DOMINGO' ]\n",
    "df['dia_sem'] = pd.Categorical(df['dia_sem'], categories=dias_ordem, ordered=True)"
   ]
  },
  {
   "cell_type": "code",
   "execution_count": null,
   "id": "0ae0a231-32f9-48b9-aad7-275f1b1acea2",
   "metadata": {
    "scrolled": true
   },
   "outputs": [],
   "source": [
    "# Criei uma tabela para nos mostrar os dias da semana e quantidade de acidentes\n",
    "\n",
    "tabela_dia_periodo = pd.crosstab(df['dia_sem'], df['periodo'])\n",
    "tabela_dia_periodo"
   ]
  },
  {
   "cell_type": "code",
   "execution_count": null,
   "id": "3ab2b30d-ccfd-4a15-a13d-6a7a91d8ab7f",
   "metadata": {},
   "outputs": [],
   "source": [
    "tabela_dia_periodo = pd.crosstab(df['dia_sem'], df['periodo'])\n",
    "\n",
    "ax = tabela_dia_periodo.plot(kind='bar', figsize=(10,6))\n",
    "plt.title('Acidentes por Dia da semana e Período do dia')\n",
    "plt.xlabel('Dia da Semana')\n",
    "plt.ylabel('Quantidade de Acidentes')\n",
    "plt.legend(title='Periodo do Dia')\n",
    "\n",
    "for container in ax.containers:  \n",
    "    ax.bar_label(container, fmt='%d')\n",
    "\n",
    "plt.show()"
   ]
  },
  {
   "cell_type": "markdown",
   "id": "222fb3fc-680a-40cb-9fa7-33e0201746d8",
   "metadata": {},
   "source": [
    "Observando o gráfico, podemos identificar que o período do **dia** são mais frequentes de acidentes. Com por exemplo, notamos que há uma maior concentração de acidentes nos **finais de semana** ou durante o **período da manhã**, pois o fluxo de carros aumenta nesses períodos. Essas informações pode auxiliar no planejamento de campanhas de segurança viária e fiscalização."
   ]
  },
  {
   "cell_type": "markdown",
   "id": "fc24ec02-ecd1-4b8f-b114-7e687436ff6e",
   "metadata": {},
   "source": [
    "# Acidentes por hora e dia da semana\n",
    "Nesta etapa, analisamos a distribuição dos acidentes ao longo do **dia** em cada **dia da semana**, para identificar quais horários apresentam maior ocorrência de acidentes."
   ]
  },
  {
   "cell_type": "code",
   "execution_count": null,
   "id": "ae05bd53-d485-4c23-b6fd-e37fa713ceff",
   "metadata": {
    "scrolled": true
   },
   "outputs": [],
   "source": [
    "print(df.columns)"
   ]
  },
  {
   "cell_type": "code",
   "execution_count": null,
   "id": "46233939-c3c2-43e8-86ca-18fb3e4622b8",
   "metadata": {},
   "outputs": [],
   "source": [
    "print(df['dia_sem'].unique())"
   ]
  },
  {
   "cell_type": "code",
   "execution_count": null,
   "id": "cd4f8e62-46a8-4a01-a6ec-8c810a17d2ee",
   "metadata": {},
   "outputs": [],
   "source": [
    "print(df['periodo'].unique())"
   ]
  },
  {
   "cell_type": "code",
   "execution_count": null,
   "id": "97ddea05-a15d-43af-a358-dfdc76e880e1",
   "metadata": {},
   "outputs": [],
   "source": [
    "dias_ordem = ['SEGUNDA-FEIRA','TERÇA-FEIRA','QUARTA-FEIRA','QUINTA-FEIRA','SEXTA-FEIRA','SÁBADO','DOMINGO' ]\n",
    "df['dia_sem'] = pd.Categorical(df['dia_sem'], categories=dias_ordem, ordered=True)"
   ]
  },
  {
   "cell_type": "code",
   "execution_count": null,
   "id": "e20aeadb-ed09-4ba5-a73a-a844b49c9f98",
   "metadata": {},
   "outputs": [],
   "source": [
    "# Criando uma tabela cruzada entre hora e dia da semana\n",
    "tabela_dia_periodo = pd.crosstab(df['dia_sem'],df['periodo'])\n",
    "tabela_dia_periodo"
   ]
  },
  {
   "cell_type": "code",
   "execution_count": null,
   "id": "b8a8c52b-ac2a-44f5-84e0-0de41553b689",
   "metadata": {},
   "outputs": [],
   "source": [
    "df['hora'] = pd.to_datetime(df['hora'], errors='coerce')\n",
    "df['hora_int'] = df['hora'].dt.hour\n",
    "\n",
    "tabela_hora_dia = pd.crosstab(df['hora_int'], df['dia_sem'])\n",
    "\n",
    "plt.figure(figsize=(12,6))\n",
    "sns.heatmap(\n",
    "    tabela_hora_dia,\n",
    "    cmap='Blues',\n",
    "    annot = True,\n",
    "    fmt='d',\n",
    "    cbar_kws={'label': 'Quantidade de Acidentes'} \n",
    ")\n",
    "\n",
    "plt.title('Distribuição de Acidentes por Hora do Dia e Dia da semana')\n",
    "plt.xlabel('Dia da semana')\n",
    "plt.ylabel('Hora do Dia')\n",
    "plt.show()\n",
    "                "
   ]
  },
  {
   "cell_type": "markdown",
   "id": "c9e700a2-d472-408e-8d08-911b82fe755a",
   "metadata": {},
   "source": [
    "O heatmap permite visualizar os picos de acidentes em horários específicos. Podemos ver claramente quais horários são mais críticos em cada dia da semana, com destaque para 07:00 e 08:00 da manhã e 18:00 às 19:00 da noite, que concentram maior número de acidentes. Essa informação é fundamental para planejar campanhas de conscientização e estratégias de fiscalização."
   ]
  },
  {
   "cell_type": "markdown",
   "id": "baf8a5c3-d4d2-4969-8cf4-f7b16ba6b28c",
   "metadata": {},
   "source": [
    "# Conclusão"
   ]
  },
  {
   "cell_type": "markdown",
   "id": "f72a56a5-0253-4b28-ae75-43155c17974c",
   "metadata": {
    "editable": true,
    "slideshow": {
     "slide_type": ""
    },
    "tags": []
   },
   "source": [
    "Ao longo deste projeto, realizamos uma análise exploratória dos acidentes, observando sua distribuição por **dia da semana**, **período do dia** e **hora do dia**. Alguns pontos importantes foram identificados:\n",
    "\n",
    "- Os acidentes apresentam maior ocorrência em determinados dias e horários, com destaque para **07:00 e 08:00 da manhã** e **18:00 às 19:00 da noite**, indicando horários críticos, possivelmente relacionados ao fluxo intenso de trânsito para ida e volta de trabalho.\n",
    "- A análise por dia da semana mostrou padrões de maior incidência nos dias de maior movimento, especialmente **sextas-feiras** e períodos próximos ao final da semana.\n",
    "- A distribuição por período e hora permite direcionar ações de conscientização, fiscalização e políticas públicas para reduzir o número de acidentes.\n",
    "\n",
    "Esses insights são fundamentais para **planejar estratégias de prevenção**, identificar áreas e horários críticos, e auxiliar na tomada de decisões por órgãos de trânsito e gestores urbanos.\n"
   ]
  }
 ],
 "metadata": {
  "kernelspec": {
   "display_name": "Python [conda env:base] *",
   "language": "python",
   "name": "conda-base-py"
  },
  "language_info": {
   "codemirror_mode": {
    "name": "ipython",
    "version": 3
   },
   "file_extension": ".py",
   "mimetype": "text/x-python",
   "name": "python",
   "nbconvert_exporter": "python",
   "pygments_lexer": "ipython3",
   "version": "3.13.5"
  }
 },
 "nbformat": 4,
 "nbformat_minor": 5
}
